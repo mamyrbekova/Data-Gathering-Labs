{
 "cells": [
  {
   "cell_type": "code",
   "execution_count": 28,
   "id": "d923ff40-d59d-4ce2-91f2-43a5a72a85f7",
   "metadata": {},
   "outputs": [
    {
     "name": "stdout",
     "output_type": "stream",
     "text": [
      "    results\n",
      "0    Daniel\n",
      "1  Frozen 2\n"
     ]
    }
   ],
   "source": [
    "import pandas as pd\n",
    "\n",
    "#1\n",
    "data = [[1, 'Avengers'], [2, 'Frozen 2'], [3, 'Joker']]\n",
    "movies = pd.DataFrame(data, columns=['movie_id', 'title']).astype({'movie_id': 'Int64', 'title': 'object'})\n",
    "data = [[1, 'Daniel'], [2, 'Monica'], [3, 'Maria'], [4, 'James']]\n",
    "users = pd.DataFrame(data, columns=['user_id', 'name']).astype({'user_id': 'Int64', 'name': 'object'})\n",
    "data = [[1, 1, 3, '2020-01-12'], [1, 2, 4, '2020-02-11'], [1, 3, 2, '2020-02-12'], [1, 4, 1, '2020-01-01'],\n",
    "        [2, 1, 5, '2020-02-17'], [2, 2, 2, '2020-02-01'], [2, 3, 2, '2020-03-01'], [3, 1, 3, '2020-02-22'],\n",
    "        [3, 2, 4, '2020-02-25']]\n",
    "movie_rating = pd.DataFrame(data, columns=['movie_id', 'user_id', 'rating', 'created_at']).astype(\n",
    "    {'movie_id': 'Int64', 'user_id': 'Int64', 'rating': 'Int64', 'created_at': 'datetime64[ns]'})\n",
    "\n",
    "def movie_rating_analysis(movies: pd.DataFrame, users: pd.DataFrame, movie_rating: pd.DataFrame) -> pd.DataFrame:\n",
    "    user_ratings_count = movie_rating.groupby('user_id').size().reset_index(name='rating_count')\n",
    "    max_ratings = user_ratings_count['rating_count'].max()\n",
    "    users_with_max_ratings = user_ratings_count[user_ratings_count['rating_count'] == max_ratings]\n",
    "    merged_users = users.merge(users_with_max_ratings, on='user_id')\n",
    "    user_with_max_ratings = merged_users.sort_values('name').iloc[0]['name']\n",
    "\n",
    "    feb_ratings = movie_rating[movie_rating['created_at'].between('2020-02-01', '2020-02-29')]\n",
    "    movie_avg_rating = feb_ratings.groupby('movie_id')['rating'].mean().reset_index()\n",
    "    max_avg_rating = movie_avg_rating['rating'].max()\n",
    "    movies_with_max_avg_rating = movie_avg_rating[movie_avg_rating['rating'] == max_avg_rating]\n",
    "    merged_movies = movies.merge(movies_with_max_avg_rating, on='movie_id')\n",
    "    movie_with_max_avg_rating = merged_movies.sort_values('title').iloc[0]['title']\n",
    "\n",
    "    results = pd.DataFrame({\n",
    "        'results': [user_with_max_ratings, movie_with_max_avg_rating]\n",
    "    })\n",
    "    \n",
    "    return results\n",
    "\n",
    "results = movie_rating_analysis(movies, users, movie_rating)\n",
    "print(results)\n"
   ]
  },
  {
   "cell_type": "code",
   "execution_count": 30,
   "id": "ed6adabd-fd1c-418c-b706-dbd107c50b4e",
   "metadata": {},
   "outputs": [
    {
     "name": "stdout",
     "output_type": "stream",
     "text": [
      "     stock_name  capital_gain_loss\n",
      "0  Corona Masks               9500\n",
      "1      Handbags             -23000\n",
      "2      Leetcode               8000\n"
     ]
    }
   ],
   "source": [
    "#2\n",
    "data = [['Leetcode', 'Buy', 1, 1000], ['Corona Masks', 'Buy', 2, 10], ['Leetcode', 'Sell', 5, 9000], ['Handbags', 'Buy', 17, 30000], ['Corona Masks', 'Sell', 3, 1010], ['Corona Masks', 'Buy', 4, 1000], ['Corona Masks', 'Sell', 5, 500], ['Corona Masks', 'Buy', 6, 1000], ['Handbags', 'Sell', 29, 7000], ['Corona Masks', 'Sell', 10, 10000]]\n",
    "stocks = pd.DataFrame(data, columns=['stock_name', 'operation', 'operation_day', 'price']).astype({'stock_name':'object', 'operation':'object', 'operation_day':'Int64', 'price':'Int64'})\n",
    "\n",
    "def capital_gainloss(stocks: pd.DataFrame) -> pd.DataFrame:\n",
    "\n",
    "    buy_data = stocks[stocks['operation'] == 'Buy']\n",
    "    sell_data = stocks[stocks['operation'] == 'Sell']\n",
    "\n",
    "    total_buys = buy_data.groupby('stock_name')['price'].sum().reset_index()\n",
    "    total_sells = sell_data.groupby('stock_name')['price'].sum().reset_index()\n",
    "\n",
    "    capital = pd.merge(total_buys, total_sells, on='stock_name', how='outer', suffixes=('_buy', '_sell')).fillna(0)\n",
    "\n",
    "\n",
    "    capital['capital_gain_loss'] = capital['price_sell'] - capital['price_buy']\n",
    "\n",
    "    result = capital[['stock_name', 'capital_gain_loss']]\n",
    "\n",
    "    return result.reset_index(drop=True)\n",
    "\n",
    "result = capital_gainloss(stocks)\n",
    "print(result)"
   ]
  },
  {
   "cell_type": "code",
   "execution_count": 31,
   "id": "0674e7aa-54fb-4ae7-82e3-fd240a42dd7b",
   "metadata": {},
   "outputs": [
    {
     "data": {
      "text/html": [
       "<div>\n",
       "<style scoped>\n",
       "    .dataframe tbody tr th:only-of-type {\n",
       "        vertical-align: middle;\n",
       "    }\n",
       "\n",
       "    .dataframe tbody tr th {\n",
       "        vertical-align: top;\n",
       "    }\n",
       "\n",
       "    .dataframe thead th {\n",
       "        text-align: right;\n",
       "    }\n",
       "</style>\n",
       "<table border=\"1\" class=\"dataframe\">\n",
       "  <thead>\n",
       "    <tr style=\"text-align: right;\">\n",
       "      <th></th>\n",
       "      <th>SecondHighestSalary</th>\n",
       "    </tr>\n",
       "  </thead>\n",
       "  <tbody>\n",
       "    <tr>\n",
       "      <th>0</th>\n",
       "      <td>200</td>\n",
       "    </tr>\n",
       "  </tbody>\n",
       "</table>\n",
       "</div>"
      ],
      "text/plain": [
       "   SecondHighestSalary\n",
       "0                  200"
      ]
     },
     "execution_count": 31,
     "metadata": {},
     "output_type": "execute_result"
    }
   ],
   "source": [
    "#3\n",
    "data = [[1, 100], [2, 200], [3, 300]]\n",
    "employee = pd.DataFrame(data, columns=['id', 'salary']).astype({'id':'int64', 'salary':'int64'})\n",
    "\n",
    "def second_highest_salary(employee: pd.DataFrame) -> pd.DataFrame:\n",
    "\n",
    "    distinct_salaries = employee['salary'].drop_duplicates().sort_values(ascending=False)\n",
    "    \n",
    "\n",
    "    if len(distinct_salaries) < 2:\n",
    "        return pd.DataFrame({'SecondHighestSalary': [None]})\n",
    "    \n",
    "\n",
    "    second_highest = distinct_salaries.iloc[1]\n",
    "    \n",
    "\n",
    "    return pd.DataFrame({'SecondHighestSalary': [second_highest]})\n",
    "\n",
    "rslt = second_highest_salary(employee)\n",
    "rslt"
   ]
  }
 ],
 "metadata": {
  "kernelspec": {
   "display_name": "Python 3 (ipykernel)",
   "language": "python",
   "name": "python3"
  },
  "language_info": {
   "codemirror_mode": {
    "name": "ipython",
    "version": 3
   },
   "file_extension": ".py",
   "mimetype": "text/x-python",
   "name": "python",
   "nbconvert_exporter": "python",
   "pygments_lexer": "ipython3",
   "version": "3.12.3"
  }
 },
 "nbformat": 4,
 "nbformat_minor": 5
}
