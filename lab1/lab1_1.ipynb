{
 "cells": [
  {
   "cell_type": "code",
   "execution_count": 1,
   "id": "5091df68-5937-4b70-902e-7c856ca802ea",
   "metadata": {},
   "outputs": [],
   "source": [
    "import numpy as np"
   ]
  },
  {
   "cell_type": "code",
   "execution_count": 2,
   "id": "e60850ee-7fae-4796-9d9f-a62832bbb2b5",
   "metadata": {},
   "outputs": [],
   "source": [
    "x = np.array([[1, 2], [3, 4]])\n",
    "y = np.array([[5, 6], [7, 8]])"
   ]
  },
  {
   "cell_type": "code",
   "execution_count": 3,
   "id": "261fced6-53ff-4c2b-81e5-d149e42c6b86",
   "metadata": {},
   "outputs": [
    {
     "data": {
      "text/plain": [
       "(array([[1, 2],\n",
       "        [3, 4]]),\n",
       " array([[5, 6],\n",
       "        [7, 8]]))"
      ]
     },
     "execution_count": 3,
     "metadata": {},
     "output_type": "execute_result"
    }
   ],
   "source": [
    "x, y"
   ]
  },
  {
   "cell_type": "code",
   "execution_count": 4,
   "id": "f758532a-76d0-451a-800b-ca090d34047b",
   "metadata": {},
   "outputs": [
    {
     "data": {
      "text/plain": [
       "((2, 2), (2, 2))"
      ]
     },
     "execution_count": 4,
     "metadata": {},
     "output_type": "execute_result"
    }
   ],
   "source": [
    "x.shape, y.shape"
   ]
  },
  {
   "cell_type": "code",
   "execution_count": 5,
   "id": "6192204f-490e-40e7-b616-cffa42a6bfd5",
   "metadata": {},
   "outputs": [
    {
     "data": {
      "text/plain": [
       "-2.0000000000000004"
      ]
     },
     "execution_count": 5,
     "metadata": {},
     "output_type": "execute_result"
    }
   ],
   "source": [
    "# Linear Algebra\n",
    "# 1 \n",
    "# det(A)=(1)(4)−(2)(3)=4−6=−2\n",
    "det = np.linalg.det(x)\n",
    "det"
   ]
  },
  {
   "cell_type": "code",
   "execution_count": 6,
   "id": "5b5a6fe9-dc83-4dc7-aa03-2b35c2c6bbcb",
   "metadata": {},
   "outputs": [
    {
     "data": {
      "text/plain": [
       "array([[19, 22],\n",
       "       [43, 50]])"
      ]
     },
     "execution_count": 6,
     "metadata": {},
     "output_type": "execute_result"
    }
   ],
   "source": [
    "# 2\n",
    "# dot product\n",
    "dotp = np.dot(x, y)\n",
    "dotp"
   ]
  },
  {
   "cell_type": "code",
   "execution_count": 7,
   "id": "2c378e5d-5e22-4458-8d17-8fde7e0e5352",
   "metadata": {},
   "outputs": [
    {
     "data": {
      "text/plain": [
       "array([[1, 3],\n",
       "       [2, 4]])"
      ]
     },
     "execution_count": 7,
     "metadata": {},
     "output_type": "execute_result"
    }
   ],
   "source": [
    "# 3\n",
    "# transpose x*T\n",
    "trs = np.transpose(x)\n",
    "trs"
   ]
  },
  {
   "cell_type": "code",
   "execution_count": 8,
   "id": "6f6c6f3f-1f05-4f6e-8c2a-ba2ddb21d392",
   "metadata": {},
   "outputs": [
    {
     "data": {
      "text/plain": [
       "array([[-4. ,  3. ],\n",
       "       [ 3.5, -2.5]])"
      ]
     },
     "execution_count": 8,
     "metadata": {},
     "output_type": "execute_result"
    }
   ],
   "source": [
    "# 4\n",
    "# inverse of a matrix \n",
    "inverse = np.linalg.inv(y)\n",
    "inverse"
   ]
  },
  {
   "cell_type": "code",
   "execution_count": 9,
   "id": "5d4a3ee4-a4ac-4b48-8fac-86c16c248156",
   "metadata": {},
   "outputs": [
    {
     "data": {
      "text/plain": [
       "EigResult(eigenvalues=array([-0.37228132,  5.37228132]), eigenvectors=array([[-0.82456484, -0.41597356],\n",
       "       [ 0.56576746, -0.90937671]]))"
      ]
     },
     "execution_count": 9,
     "metadata": {},
     "output_type": "execute_result"
    }
   ],
   "source": [
    "# 5\n",
    "# Eigenvalues and Eigenvectors\n",
    "eigen = np.linalg.eig(x)\n",
    "eigen"
   ]
  },
  {
   "cell_type": "code",
   "execution_count": 10,
   "id": "d009bc12-b909-487e-843f-86601858d722",
   "metadata": {},
   "outputs": [
    {
     "name": "stdout",
     "output_type": "stream",
     "text": [
      "x values: [0.  0.5 1.  1.5]\n",
      "f(x) values: [0.   0.25 1.   2.25]\n",
      "Numerical derivative dy/dx: [0.5 1.  2.  2.5]\n"
     ]
    }
   ],
   "source": [
    "# Calculus\n",
    "# 6\n",
    "# Numerical derivative \n",
    "x = np.array([0, 0.5, 1, 1.5])  \n",
    "y = x ** 2\n",
    "dy_dx = np.gradient(y, x)\n",
    "print(\"x values:\", x)\n",
    "print(\"f(x) values:\", y)\n",
    "print(\"Numerical derivative dy/dx:\", dy_dx)"
   ]
  },
  {
   "cell_type": "code",
   "execution_count": 11,
   "id": "5015526b-7643-4109-87d5-47301ceb185c",
   "metadata": {},
   "outputs": [
    {
     "data": {
      "text/plain": [
       "(array([0.        , 0.47942554, 0.84147098, 0.99749499]),\n",
       " array([1.        , 0.87758256, 0.54030231, 0.0707372 ]),\n",
       " array([ 0.        ,  0.54630249,  1.55740772, 14.10141995]))"
      ]
     },
     "execution_count": 11,
     "metadata": {},
     "output_type": "execute_result"
    }
   ],
   "source": [
    "# 7\n",
    "# sin, cos...\n",
    "z = np.sin(x)\n",
    "sin_z = np.sin(x)\n",
    "cos_z = np.cos(x)\n",
    "tan_z = np.tan(x)\n",
    "sin_z, cos_z, tan_z"
   ]
  },
  {
   "cell_type": "code",
   "execution_count": 14,
   "id": "4a43ae79-906c-4e27-b9bb-48f379001d82",
   "metadata": {},
   "outputs": [
    {
     "name": "stderr",
     "output_type": "stream",
     "text": [
      "/var/folders/1p/5bfjw1dn3hv433xj4740231w0000gn/T/ipykernel_78407/2766318258.py:10: DeprecationWarning: 'scipy.integrate.simps' is deprecated in favour of 'scipy.integrate.simpson' and will be removed in SciPy 1.14.0\n",
      "  integral = simps(b, a)\n"
     ]
    },
    {
     "data": {
      "text/plain": [
       "21.333333333333332"
      ]
     },
     "execution_count": 14,
     "metadata": {},
     "output_type": "execute_result"
    }
   ],
   "source": [
    "# 8\n",
    "# integral(Simpson's rule)\n",
    "from scipy.integrate import simps\n",
    "a = np.array([0, 1, 2, 3, 4]) \n",
    "def f(x):\n",
    "    return x ** 2\n",
    "\n",
    "b = f(a)  #0,1,4,9,16\n",
    "\n",
    "integral = simps(b, a)\n",
    "integral"
   ]
  },
  {
   "cell_type": "code",
   "execution_count": 16,
   "id": "c09e23f7-2e3c-4ec2-b8bf-ddf5a0a7f58b",
   "metadata": {},
   "outputs": [
    {
     "name": "stderr",
     "output_type": "stream",
     "text": [
      "/var/folders/1p/5bfjw1dn3hv433xj4740231w0000gn/T/ipykernel_78407/2027855832.py:2: RuntimeWarning: divide by zero encountered in log\n",
      "  natural_log = np.log(a)\n"
     ]
    },
    {
     "data": {
      "text/plain": [
       "array([      -inf, 0.        , 0.69314718, 1.09861229, 1.38629436])"
      ]
     },
     "execution_count": 16,
     "metadata": {},
     "output_type": "execute_result"
    }
   ],
   "source": [
    "# 9\n",
    "# Natural logarithm\n",
    "natural_log = np.log(a)\n",
    "natural_log"
   ]
  },
  {
   "cell_type": "code",
   "execution_count": 17,
   "id": "389baaca-6214-41e7-a381-94497b17ece7",
   "metadata": {},
   "outputs": [
    {
     "data": {
      "text/plain": [
       "array([1.        , 2.31977682, 2.48257773, 1.15156284, 0.46916419])"
      ]
     },
     "execution_count": 17,
     "metadata": {},
     "output_type": "execute_result"
    }
   ],
   "source": [
    "# 10\n",
    "# Exponential Function\n",
    "c = np.sin(a)\n",
    "exp_c = np.exp(c)\n",
    "exp_c"
   ]
  },
  {
   "cell_type": "code",
   "execution_count": 19,
   "id": "b00ccfc6-b3d7-4c66-8640-8814cba32974",
   "metadata": {},
   "outputs": [
    {
     "data": {
      "text/plain": [
       "2.0"
      ]
     },
     "execution_count": 19,
     "metadata": {},
     "output_type": "execute_result"
    }
   ],
   "source": [
    "# Statistics\n",
    "# 11\n",
    "# the middle value in a sorted array\n",
    "median = np.median(a)\n",
    "median"
   ]
  },
  {
   "cell_type": "code",
   "execution_count": 22,
   "id": "e0f201aa-e538-4b8d-b624-402e48db23d1",
   "metadata": {},
   "outputs": [
    {
     "data": {
      "text/plain": [
       "51.4"
      ]
     },
     "execution_count": 22,
     "metadata": {},
     "output_type": "execute_result"
    }
   ],
   "source": [
    "# 12\n",
    "# average value of all the elements in the array\n",
    "values = np.array([23, 45, 87, 12, 90])\n",
    "mean_value = np.mean(values)\n",
    "mean_value"
   ]
  },
  {
   "cell_type": "code",
   "execution_count": 23,
   "id": "b6485c59-8f1f-47db-93fd-49df2cff24f8",
   "metadata": {},
   "outputs": [
    {
     "data": {
      "text/plain": [
       "78"
      ]
     },
     "execution_count": 23,
     "metadata": {},
     "output_type": "execute_result"
    }
   ],
   "source": [
    "# 13\n",
    "# Data Range (Max - Min)\n",
    "range = np.ptp(values)\n",
    "range"
   ]
  },
  {
   "cell_type": "code",
   "execution_count": 24,
   "id": "84a5b42c-bbfa-4a5c-a0f4-67cf82e268e2",
   "metadata": {},
   "outputs": [
    {
     "data": {
      "text/plain": [
       "23.0"
      ]
     },
     "execution_count": 24,
     "metadata": {},
     "output_type": "execute_result"
    }
   ],
   "source": [
    "# 14\n",
    "# x'th percentile of the array\n",
    "perc = np.percentile(values, 25)\n",
    "perc"
   ]
  },
  {
   "cell_type": "code",
   "execution_count": 28,
   "id": "5c4a6ff5-1a06-4e58-8ef9-beb14e79d93d",
   "metadata": {},
   "outputs": [
    {
     "name": "stdout",
     "output_type": "stream",
     "text": [
      "Covariance between data1 and data2: 3.6666666666666665\n"
     ]
    },
    {
     "data": {
      "text/plain": [
       "array([[6.66666667, 3.66666667],\n",
       "       [3.66666667, 2.91666667]])"
      ]
     },
     "execution_count": 28,
     "metadata": {},
     "output_type": "execute_result"
    }
   ],
   "source": [
    "# 15\n",
    "# Covariance of two variables\n",
    "data1 = np.array([2, 4, 6, 8])\n",
    "data2 = np.array([1, 3, 2, 5])\n",
    "\n",
    "cov_matrix = np.cov(data1, data2)\n",
    "covariance = cov_matrix[0, 1]\n",
    "print(\"Covariance between data1 and data2:\", covariance)\n",
    "cov_matrix\n"
   ]
  },
  {
   "cell_type": "code",
   "execution_count": null,
   "id": "67eb592b-f946-4696-a09b-b845abda9db3",
   "metadata": {},
   "outputs": [],
   "source": []
  }
 ],
 "metadata": {
  "kernelspec": {
   "display_name": "Python 3 (ipykernel)",
   "language": "python",
   "name": "python3"
  },
  "language_info": {
   "codemirror_mode": {
    "name": "ipython",
    "version": 3
   },
   "file_extension": ".py",
   "mimetype": "text/x-python",
   "name": "python",
   "nbconvert_exporter": "python",
   "pygments_lexer": "ipython3",
   "version": "3.12.3"
  }
 },
 "nbformat": 4,
 "nbformat_minor": 5
}
