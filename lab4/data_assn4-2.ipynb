{
 "cells": [
  {
   "cell_type": "code",
   "execution_count": 1,
   "id": "aae88d2b-dc0d-46a7-8388-a728e51677dc",
   "metadata": {},
   "outputs": [],
   "source": [
    "import pandas as pd\n",
    "import numpy as np\n",
    "import matplotlib.pyplot as plt\n",
    "import seaborn as sns\n",
    "from scipy import stats"
   ]
  },
  {
   "cell_type": "code",
   "execution_count": 2,
   "id": "4afe075f-bf49-4b78-a448-7cba1472b8b1",
   "metadata": {},
   "outputs": [],
   "source": [
    "import warnings\n",
    "\n",
    "warnings.filterwarnings('ignore')"
   ]
  },
  {
   "cell_type": "code",
   "execution_count": 3,
   "id": "9150b5d0-b6bc-45ab-b257-4891357ce19f",
   "metadata": {},
   "outputs": [],
   "source": [
    "df = pd.read_csv(\"amazon_delivery.csv\")"
   ]
  },
  {
   "cell_type": "code",
   "execution_count": 4,
   "id": "89a33139-e380-4f8c-8943-cfce63137053",
   "metadata": {},
   "outputs": [
    {
     "data": {
      "text/html": [
       "<div>\n",
       "<style scoped>\n",
       "    .dataframe tbody tr th:only-of-type {\n",
       "        vertical-align: middle;\n",
       "    }\n",
       "\n",
       "    .dataframe tbody tr th {\n",
       "        vertical-align: top;\n",
       "    }\n",
       "\n",
       "    .dataframe thead th {\n",
       "        text-align: right;\n",
       "    }\n",
       "</style>\n",
       "<table border=\"1\" class=\"dataframe\">\n",
       "  <thead>\n",
       "    <tr style=\"text-align: right;\">\n",
       "      <th></th>\n",
       "      <th>Order_ID</th>\n",
       "      <th>Agent_Age</th>\n",
       "      <th>Agent_Rating</th>\n",
       "      <th>Store_Latitude</th>\n",
       "      <th>Store_Longitude</th>\n",
       "      <th>Drop_Latitude</th>\n",
       "      <th>Drop_Longitude</th>\n",
       "      <th>Order_Date</th>\n",
       "      <th>Order_Time</th>\n",
       "      <th>Pickup_Time</th>\n",
       "      <th>Weather</th>\n",
       "      <th>Traffic</th>\n",
       "      <th>Vehicle</th>\n",
       "      <th>Area</th>\n",
       "      <th>Delivery_Time</th>\n",
       "      <th>Category</th>\n",
       "    </tr>\n",
       "  </thead>\n",
       "  <tbody>\n",
       "    <tr>\n",
       "      <th>0</th>\n",
       "      <td>ialx566343618</td>\n",
       "      <td>37</td>\n",
       "      <td>4.9</td>\n",
       "      <td>22.745049</td>\n",
       "      <td>75.892471</td>\n",
       "      <td>22.765049</td>\n",
       "      <td>75.912471</td>\n",
       "      <td>2022-03-19</td>\n",
       "      <td>11:30:00</td>\n",
       "      <td>11:45:00</td>\n",
       "      <td>Sunny</td>\n",
       "      <td>High</td>\n",
       "      <td>motorcycle</td>\n",
       "      <td>Urban</td>\n",
       "      <td>120</td>\n",
       "      <td>Clothing</td>\n",
       "    </tr>\n",
       "    <tr>\n",
       "      <th>1</th>\n",
       "      <td>akqg208421122</td>\n",
       "      <td>34</td>\n",
       "      <td>4.5</td>\n",
       "      <td>12.913041</td>\n",
       "      <td>77.683237</td>\n",
       "      <td>13.043041</td>\n",
       "      <td>77.813237</td>\n",
       "      <td>2022-03-25</td>\n",
       "      <td>19:45:00</td>\n",
       "      <td>19:50:00</td>\n",
       "      <td>Stormy</td>\n",
       "      <td>Jam</td>\n",
       "      <td>scooter</td>\n",
       "      <td>Metropolitian</td>\n",
       "      <td>165</td>\n",
       "      <td>Electronics</td>\n",
       "    </tr>\n",
       "    <tr>\n",
       "      <th>2</th>\n",
       "      <td>njpu434582536</td>\n",
       "      <td>23</td>\n",
       "      <td>4.4</td>\n",
       "      <td>12.914264</td>\n",
       "      <td>77.678400</td>\n",
       "      <td>12.924264</td>\n",
       "      <td>77.688400</td>\n",
       "      <td>2022-03-19</td>\n",
       "      <td>08:30:00</td>\n",
       "      <td>08:45:00</td>\n",
       "      <td>Sandstorms</td>\n",
       "      <td>Low</td>\n",
       "      <td>motorcycle</td>\n",
       "      <td>Urban</td>\n",
       "      <td>130</td>\n",
       "      <td>Sports</td>\n",
       "    </tr>\n",
       "    <tr>\n",
       "      <th>3</th>\n",
       "      <td>rjto796129700</td>\n",
       "      <td>38</td>\n",
       "      <td>4.7</td>\n",
       "      <td>11.003669</td>\n",
       "      <td>76.976494</td>\n",
       "      <td>11.053669</td>\n",
       "      <td>77.026494</td>\n",
       "      <td>2022-04-05</td>\n",
       "      <td>18:00:00</td>\n",
       "      <td>18:10:00</td>\n",
       "      <td>Sunny</td>\n",
       "      <td>Medium</td>\n",
       "      <td>motorcycle</td>\n",
       "      <td>Metropolitian</td>\n",
       "      <td>105</td>\n",
       "      <td>Cosmetics</td>\n",
       "    </tr>\n",
       "    <tr>\n",
       "      <th>4</th>\n",
       "      <td>zguw716275638</td>\n",
       "      <td>32</td>\n",
       "      <td>4.6</td>\n",
       "      <td>12.972793</td>\n",
       "      <td>80.249982</td>\n",
       "      <td>13.012793</td>\n",
       "      <td>80.289982</td>\n",
       "      <td>2022-03-26</td>\n",
       "      <td>13:30:00</td>\n",
       "      <td>13:45:00</td>\n",
       "      <td>Cloudy</td>\n",
       "      <td>High</td>\n",
       "      <td>scooter</td>\n",
       "      <td>Metropolitian</td>\n",
       "      <td>150</td>\n",
       "      <td>Toys</td>\n",
       "    </tr>\n",
       "    <tr>\n",
       "      <th>...</th>\n",
       "      <td>...</td>\n",
       "      <td>...</td>\n",
       "      <td>...</td>\n",
       "      <td>...</td>\n",
       "      <td>...</td>\n",
       "      <td>...</td>\n",
       "      <td>...</td>\n",
       "      <td>...</td>\n",
       "      <td>...</td>\n",
       "      <td>...</td>\n",
       "      <td>...</td>\n",
       "      <td>...</td>\n",
       "      <td>...</td>\n",
       "      <td>...</td>\n",
       "      <td>...</td>\n",
       "      <td>...</td>\n",
       "    </tr>\n",
       "    <tr>\n",
       "      <th>43734</th>\n",
       "      <td>jlxf819993117</td>\n",
       "      <td>30</td>\n",
       "      <td>4.8</td>\n",
       "      <td>26.902328</td>\n",
       "      <td>75.794257</td>\n",
       "      <td>26.912328</td>\n",
       "      <td>75.804257</td>\n",
       "      <td>2022-03-24</td>\n",
       "      <td>11:35:00</td>\n",
       "      <td>11:45:00</td>\n",
       "      <td>Windy</td>\n",
       "      <td>High</td>\n",
       "      <td>motorcycle</td>\n",
       "      <td>Metropolitian</td>\n",
       "      <td>160</td>\n",
       "      <td>Home</td>\n",
       "    </tr>\n",
       "    <tr>\n",
       "      <th>43735</th>\n",
       "      <td>aevx342135787</td>\n",
       "      <td>21</td>\n",
       "      <td>4.6</td>\n",
       "      <td>0.000000</td>\n",
       "      <td>0.000000</td>\n",
       "      <td>0.070000</td>\n",
       "      <td>0.070000</td>\n",
       "      <td>2022-02-16</td>\n",
       "      <td>19:55:00</td>\n",
       "      <td>20:10:00</td>\n",
       "      <td>Windy</td>\n",
       "      <td>Jam</td>\n",
       "      <td>motorcycle</td>\n",
       "      <td>Metropolitian</td>\n",
       "      <td>180</td>\n",
       "      <td>Jewelry</td>\n",
       "    </tr>\n",
       "    <tr>\n",
       "      <th>43736</th>\n",
       "      <td>xnek760674819</td>\n",
       "      <td>30</td>\n",
       "      <td>4.9</td>\n",
       "      <td>13.022394</td>\n",
       "      <td>80.242439</td>\n",
       "      <td>13.052394</td>\n",
       "      <td>80.272439</td>\n",
       "      <td>2022-03-11</td>\n",
       "      <td>23:50:00</td>\n",
       "      <td>00:05:00</td>\n",
       "      <td>Cloudy</td>\n",
       "      <td>Low</td>\n",
       "      <td>scooter</td>\n",
       "      <td>Metropolitian</td>\n",
       "      <td>80</td>\n",
       "      <td>Home</td>\n",
       "    </tr>\n",
       "    <tr>\n",
       "      <th>43737</th>\n",
       "      <td>cynl434665991</td>\n",
       "      <td>20</td>\n",
       "      <td>4.7</td>\n",
       "      <td>11.001753</td>\n",
       "      <td>76.986241</td>\n",
       "      <td>11.041753</td>\n",
       "      <td>77.026241</td>\n",
       "      <td>2022-03-07</td>\n",
       "      <td>13:35:00</td>\n",
       "      <td>13:40:00</td>\n",
       "      <td>Cloudy</td>\n",
       "      <td>High</td>\n",
       "      <td>motorcycle</td>\n",
       "      <td>Metropolitian</td>\n",
       "      <td>130</td>\n",
       "      <td>Kitchen</td>\n",
       "    </tr>\n",
       "    <tr>\n",
       "      <th>43738</th>\n",
       "      <td>nsyz997960170</td>\n",
       "      <td>23</td>\n",
       "      <td>4.9</td>\n",
       "      <td>23.351058</td>\n",
       "      <td>85.325731</td>\n",
       "      <td>23.431058</td>\n",
       "      <td>85.405731</td>\n",
       "      <td>2022-03-02</td>\n",
       "      <td>17:10:00</td>\n",
       "      <td>17:15:00</td>\n",
       "      <td>Fog</td>\n",
       "      <td>Medium</td>\n",
       "      <td>scooter</td>\n",
       "      <td>Metropolitian</td>\n",
       "      <td>180</td>\n",
       "      <td>Cosmetics</td>\n",
       "    </tr>\n",
       "  </tbody>\n",
       "</table>\n",
       "<p>43739 rows × 16 columns</p>\n",
       "</div>"
      ],
      "text/plain": [
       "            Order_ID  Agent_Age  Agent_Rating  Store_Latitude  \\\n",
       "0      ialx566343618         37           4.9       22.745049   \n",
       "1      akqg208421122         34           4.5       12.913041   \n",
       "2      njpu434582536         23           4.4       12.914264   \n",
       "3      rjto796129700         38           4.7       11.003669   \n",
       "4      zguw716275638         32           4.6       12.972793   \n",
       "...              ...        ...           ...             ...   \n",
       "43734  jlxf819993117         30           4.8       26.902328   \n",
       "43735  aevx342135787         21           4.6        0.000000   \n",
       "43736  xnek760674819         30           4.9       13.022394   \n",
       "43737  cynl434665991         20           4.7       11.001753   \n",
       "43738  nsyz997960170         23           4.9       23.351058   \n",
       "\n",
       "       Store_Longitude  Drop_Latitude  Drop_Longitude  Order_Date Order_Time  \\\n",
       "0            75.892471      22.765049       75.912471  2022-03-19   11:30:00   \n",
       "1            77.683237      13.043041       77.813237  2022-03-25   19:45:00   \n",
       "2            77.678400      12.924264       77.688400  2022-03-19   08:30:00   \n",
       "3            76.976494      11.053669       77.026494  2022-04-05   18:00:00   \n",
       "4            80.249982      13.012793       80.289982  2022-03-26   13:30:00   \n",
       "...                ...            ...             ...         ...        ...   \n",
       "43734        75.794257      26.912328       75.804257  2022-03-24   11:35:00   \n",
       "43735         0.000000       0.070000        0.070000  2022-02-16   19:55:00   \n",
       "43736        80.242439      13.052394       80.272439  2022-03-11   23:50:00   \n",
       "43737        76.986241      11.041753       77.026241  2022-03-07   13:35:00   \n",
       "43738        85.325731      23.431058       85.405731  2022-03-02   17:10:00   \n",
       "\n",
       "      Pickup_Time     Weather  Traffic      Vehicle            Area  \\\n",
       "0        11:45:00       Sunny    High   motorcycle           Urban    \n",
       "1        19:50:00      Stormy     Jam      scooter   Metropolitian    \n",
       "2        08:45:00  Sandstorms     Low   motorcycle           Urban    \n",
       "3        18:10:00       Sunny  Medium   motorcycle   Metropolitian    \n",
       "4        13:45:00      Cloudy    High      scooter   Metropolitian    \n",
       "...           ...         ...      ...          ...             ...   \n",
       "43734    11:45:00       Windy    High   motorcycle   Metropolitian    \n",
       "43735    20:10:00       Windy     Jam   motorcycle   Metropolitian    \n",
       "43736    00:05:00      Cloudy     Low      scooter   Metropolitian    \n",
       "43737    13:40:00      Cloudy    High   motorcycle   Metropolitian    \n",
       "43738    17:15:00         Fog  Medium      scooter   Metropolitian    \n",
       "\n",
       "       Delivery_Time     Category  \n",
       "0                120     Clothing  \n",
       "1                165  Electronics  \n",
       "2                130       Sports  \n",
       "3                105    Cosmetics  \n",
       "4                150         Toys  \n",
       "...              ...          ...  \n",
       "43734            160         Home  \n",
       "43735            180      Jewelry  \n",
       "43736             80         Home  \n",
       "43737            130      Kitchen  \n",
       "43738            180    Cosmetics  \n",
       "\n",
       "[43739 rows x 16 columns]"
      ]
     },
     "execution_count": 4,
     "metadata": {},
     "output_type": "execute_result"
    }
   ],
   "source": [
    "df"
   ]
  },
  {
   "cell_type": "code",
   "execution_count": 5,
   "id": "8b2a85ba-81ee-4cda-b31c-c846b2532e79",
   "metadata": {},
   "outputs": [
    {
     "data": {
      "text/plain": [
       "(43739, 16)"
      ]
     },
     "execution_count": 5,
     "metadata": {},
     "output_type": "execute_result"
    }
   ],
   "source": [
    "df.shape"
   ]
  },
  {
   "cell_type": "code",
   "execution_count": 6,
   "id": "d9ba9cd2-e8b7-44cc-934f-124bc3911cf2",
   "metadata": {},
   "outputs": [
    {
     "data": {
      "text/html": [
       "<div>\n",
       "<style scoped>\n",
       "    .dataframe tbody tr th:only-of-type {\n",
       "        vertical-align: middle;\n",
       "    }\n",
       "\n",
       "    .dataframe tbody tr th {\n",
       "        vertical-align: top;\n",
       "    }\n",
       "\n",
       "    .dataframe thead th {\n",
       "        text-align: right;\n",
       "    }\n",
       "</style>\n",
       "<table border=\"1\" class=\"dataframe\">\n",
       "  <thead>\n",
       "    <tr style=\"text-align: right;\">\n",
       "      <th></th>\n",
       "      <th>Agent_Age</th>\n",
       "      <th>Agent_Rating</th>\n",
       "      <th>Store_Latitude</th>\n",
       "      <th>Store_Longitude</th>\n",
       "      <th>Drop_Latitude</th>\n",
       "      <th>Drop_Longitude</th>\n",
       "      <th>Delivery_Time</th>\n",
       "    </tr>\n",
       "  </thead>\n",
       "  <tbody>\n",
       "    <tr>\n",
       "      <th>count</th>\n",
       "      <td>43739.000000</td>\n",
       "      <td>43685.000000</td>\n",
       "      <td>43739.000000</td>\n",
       "      <td>43739.000000</td>\n",
       "      <td>43739.000000</td>\n",
       "      <td>43739.000000</td>\n",
       "      <td>43739.000000</td>\n",
       "    </tr>\n",
       "    <tr>\n",
       "      <th>mean</th>\n",
       "      <td>29.567137</td>\n",
       "      <td>4.633780</td>\n",
       "      <td>17.210960</td>\n",
       "      <td>70.661177</td>\n",
       "      <td>17.459031</td>\n",
       "      <td>70.821842</td>\n",
       "      <td>124.905645</td>\n",
       "    </tr>\n",
       "    <tr>\n",
       "      <th>std</th>\n",
       "      <td>5.815155</td>\n",
       "      <td>0.334716</td>\n",
       "      <td>7.764225</td>\n",
       "      <td>21.475005</td>\n",
       "      <td>7.342950</td>\n",
       "      <td>21.153148</td>\n",
       "      <td>51.915451</td>\n",
       "    </tr>\n",
       "    <tr>\n",
       "      <th>min</th>\n",
       "      <td>15.000000</td>\n",
       "      <td>1.000000</td>\n",
       "      <td>-30.902872</td>\n",
       "      <td>-88.366217</td>\n",
       "      <td>0.010000</td>\n",
       "      <td>0.010000</td>\n",
       "      <td>10.000000</td>\n",
       "    </tr>\n",
       "    <tr>\n",
       "      <th>25%</th>\n",
       "      <td>25.000000</td>\n",
       "      <td>4.500000</td>\n",
       "      <td>12.933298</td>\n",
       "      <td>73.170283</td>\n",
       "      <td>12.985996</td>\n",
       "      <td>73.280000</td>\n",
       "      <td>90.000000</td>\n",
       "    </tr>\n",
       "    <tr>\n",
       "      <th>50%</th>\n",
       "      <td>30.000000</td>\n",
       "      <td>4.700000</td>\n",
       "      <td>18.551440</td>\n",
       "      <td>75.898497</td>\n",
       "      <td>18.633626</td>\n",
       "      <td>76.002574</td>\n",
       "      <td>125.000000</td>\n",
       "    </tr>\n",
       "    <tr>\n",
       "      <th>75%</th>\n",
       "      <td>35.000000</td>\n",
       "      <td>4.900000</td>\n",
       "      <td>22.732225</td>\n",
       "      <td>78.045359</td>\n",
       "      <td>22.785049</td>\n",
       "      <td>78.104095</td>\n",
       "      <td>160.000000</td>\n",
       "    </tr>\n",
       "    <tr>\n",
       "      <th>max</th>\n",
       "      <td>50.000000</td>\n",
       "      <td>6.000000</td>\n",
       "      <td>30.914057</td>\n",
       "      <td>88.433452</td>\n",
       "      <td>31.054057</td>\n",
       "      <td>88.563452</td>\n",
       "      <td>270.000000</td>\n",
       "    </tr>\n",
       "  </tbody>\n",
       "</table>\n",
       "</div>"
      ],
      "text/plain": [
       "          Agent_Age  Agent_Rating  Store_Latitude  Store_Longitude  \\\n",
       "count  43739.000000  43685.000000    43739.000000     43739.000000   \n",
       "mean      29.567137      4.633780       17.210960        70.661177   \n",
       "std        5.815155      0.334716        7.764225        21.475005   \n",
       "min       15.000000      1.000000      -30.902872       -88.366217   \n",
       "25%       25.000000      4.500000       12.933298        73.170283   \n",
       "50%       30.000000      4.700000       18.551440        75.898497   \n",
       "75%       35.000000      4.900000       22.732225        78.045359   \n",
       "max       50.000000      6.000000       30.914057        88.433452   \n",
       "\n",
       "       Drop_Latitude  Drop_Longitude  Delivery_Time  \n",
       "count   43739.000000    43739.000000   43739.000000  \n",
       "mean       17.459031       70.821842     124.905645  \n",
       "std         7.342950       21.153148      51.915451  \n",
       "min         0.010000        0.010000      10.000000  \n",
       "25%        12.985996       73.280000      90.000000  \n",
       "50%        18.633626       76.002574     125.000000  \n",
       "75%        22.785049       78.104095     160.000000  \n",
       "max        31.054057       88.563452     270.000000  "
      ]
     },
     "execution_count": 6,
     "metadata": {},
     "output_type": "execute_result"
    }
   ],
   "source": [
    "df.describe()"
   ]
  },
  {
   "cell_type": "code",
   "execution_count": 7,
   "id": "05c55d19-0c89-434e-a594-8b90142d68dd",
   "metadata": {},
   "outputs": [
    {
     "data": {
      "text/plain": [
       "Index(['Order_ID', 'Agent_Age', 'Agent_Rating', 'Store_Latitude',\n",
       "       'Store_Longitude', 'Drop_Latitude', 'Drop_Longitude', 'Order_Date',\n",
       "       'Order_Time', 'Pickup_Time', 'Weather', 'Traffic', 'Vehicle', 'Area',\n",
       "       'Delivery_Time', 'Category'],\n",
       "      dtype='object')"
      ]
     },
     "execution_count": 7,
     "metadata": {},
     "output_type": "execute_result"
    }
   ],
   "source": [
    "df.columns"
   ]
  },
  {
   "cell_type": "code",
   "execution_count": 8,
   "id": "b07b5c96-fc8f-4043-bf78-8ee4dfcceb58",
   "metadata": {},
   "outputs": [
    {
     "data": {
      "text/plain": [
       "Weather            91\n",
       "Agent_Rating       54\n",
       "Order_ID            0\n",
       "Agent_Age           0\n",
       "Store_Latitude      0\n",
       "Store_Longitude     0\n",
       "Drop_Latitude       0\n",
       "Drop_Longitude      0\n",
       "Order_Date          0\n",
       "Order_Time          0\n",
       "Pickup_Time         0\n",
       "Traffic             0\n",
       "Vehicle             0\n",
       "Area                0\n",
       "Delivery_Time       0\n",
       "Category            0\n",
       "dtype: int64"
      ]
     },
     "execution_count": 8,
     "metadata": {},
     "output_type": "execute_result"
    }
   ],
   "source": [
    "df.isna().sum().sort_values(ascending = False)"
   ]
  },
  {
   "cell_type": "code",
   "execution_count": 9,
   "id": "0eeed733-9025-4122-8802-08e197e29ba7",
   "metadata": {},
   "outputs": [
    {
     "data": {
      "text/plain": [
       "Order_ID           0.000000\n",
       "Agent_Age          0.000000\n",
       "Agent_Rating       0.123460\n",
       "Store_Latitude     0.000000\n",
       "Store_Longitude    0.000000\n",
       "Drop_Latitude      0.000000\n",
       "Drop_Longitude     0.000000\n",
       "Order_Date         0.000000\n",
       "Order_Time         0.000000\n",
       "Pickup_Time        0.000000\n",
       "Weather            0.208052\n",
       "Traffic            0.000000\n",
       "Vehicle            0.000000\n",
       "Area               0.000000\n",
       "Delivery_Time      0.000000\n",
       "Category           0.000000\n",
       "dtype: float64"
      ]
     },
     "execution_count": 9,
     "metadata": {},
     "output_type": "execute_result"
    }
   ],
   "source": [
    "missing_values = df.isnull().sum()\n",
    "missing_values_percentage = (missing_values / len(df)) * 100\n",
    "missing_values_percentage"
   ]
  },
  {
   "cell_type": "code",
   "execution_count": 10,
   "id": "afb7203c-d24e-4627-b190-10473ee12e43",
   "metadata": {},
   "outputs": [],
   "source": [
    "df[\"Weather\"].fillna(\"Unknown\", inplace = True)\n",
    "mean_rating = df[\"Agent_Rating\"].mean()\n",
    "df[\"Agent_Rating\"].fillna(mean_rating, inplace = True)"
   ]
  },
  {
   "cell_type": "code",
   "execution_count": 11,
   "id": "61d0a588-220e-4a95-b75a-2934de6049b3",
   "metadata": {},
   "outputs": [
    {
     "data": {
      "text/plain": [
       "Order_ID           0\n",
       "Agent_Age          0\n",
       "Agent_Rating       0\n",
       "Store_Latitude     0\n",
       "Store_Longitude    0\n",
       "Drop_Latitude      0\n",
       "Drop_Longitude     0\n",
       "Order_Date         0\n",
       "Order_Time         0\n",
       "Pickup_Time        0\n",
       "Weather            0\n",
       "Traffic            0\n",
       "Vehicle            0\n",
       "Area               0\n",
       "Delivery_Time      0\n",
       "Category           0\n",
       "dtype: int64"
      ]
     },
     "execution_count": 11,
     "metadata": {},
     "output_type": "execute_result"
    }
   ],
   "source": [
    "df.isna().sum().sort_values(ascending = False)"
   ]
  },
  {
   "cell_type": "code",
   "execution_count": 22,
   "id": "8eebcc8f-e462-4769-8925-3dfe8e2ea554",
   "metadata": {},
   "outputs": [
    {
     "data": {
      "text/html": [
       "<div>\n",
       "<style scoped>\n",
       "    .dataframe tbody tr th:only-of-type {\n",
       "        vertical-align: middle;\n",
       "    }\n",
       "\n",
       "    .dataframe tbody tr th {\n",
       "        vertical-align: top;\n",
       "    }\n",
       "\n",
       "    .dataframe thead th {\n",
       "        text-align: right;\n",
       "    }\n",
       "</style>\n",
       "<table border=\"1\" class=\"dataframe\">\n",
       "  <thead>\n",
       "    <tr style=\"text-align: right;\">\n",
       "      <th></th>\n",
       "      <th>Agent_Rating</th>\n",
       "      <th>Delivery_Time</th>\n",
       "    </tr>\n",
       "  </thead>\n",
       "  <tbody>\n",
       "    <tr>\n",
       "      <th>Agent_Rating</th>\n",
       "      <td>1.000000</td>\n",
       "      <td>-0.289854</td>\n",
       "    </tr>\n",
       "    <tr>\n",
       "      <th>Delivery_Time</th>\n",
       "      <td>-0.289854</td>\n",
       "      <td>1.000000</td>\n",
       "    </tr>\n",
       "  </tbody>\n",
       "</table>\n",
       "</div>"
      ],
      "text/plain": [
       "               Agent_Rating  Delivery_Time\n",
       "Agent_Rating       1.000000      -0.289854\n",
       "Delivery_Time     -0.289854       1.000000"
      ]
     },
     "execution_count": 22,
     "metadata": {},
     "output_type": "execute_result"
    }
   ],
   "source": [
    "rating_delivery_corr = df[[\"Agent_Rating\", \"Delivery_Time\"]].corr()\n",
    "rating_delivery_corr"
   ]
  },
  {
   "cell_type": "code",
   "execution_count": 24,
   "id": "7aabb1e6-8ad0-452c-927a-049dfdfc4414",
   "metadata": {},
   "outputs": [
    {
     "data": {
      "image/png": "[encoded data removed]",
      "text/plain": [
       "<Figure size 1000x600 with 1 Axes>"
      ]
     },
     "metadata": {},
     "output_type": "display_data"
    }
   ],
   "source": [
    "plt.figure(figsize=(10, 6))\n",
    "sns.histplot(df['Delivery_Time'], bins=30, kde=True, color='blue')\n",
    "plt.title('Distribution of Delivery Times')\n",
    "plt.xlabel('Delivery Time (minutes)')\n",
    "plt.ylabel('Frequency')\n",
    "plt.show()"
   ]
  },
  {
   "cell_type": "code",
   "execution_count": 13,
   "id": "8e4608ab-08a9-41e1-98c8-c637af0f93ed",
   "metadata": {},
   "outputs": [
    {
     "data": {
      "text/html": [
       "<div>\n",
       "<style scoped>\n",
       "    .dataframe tbody tr th:only-of-type {\n",
       "        vertical-align: middle;\n",
       "    }\n",
       "\n",
       "    .dataframe tbody tr th {\n",
       "        vertical-align: top;\n",
       "    }\n",
       "\n",
       "    .dataframe thead th {\n",
       "        text-align: right;\n",
       "    }\n",
       "</style>\n",
       "<table border=\"1\" class=\"dataframe\">\n",
       "  <thead>\n",
       "    <tr style=\"text-align: right;\">\n",
       "      <th></th>\n",
       "      <th>Category</th>\n",
       "      <th>Order_Count</th>\n",
       "    </tr>\n",
       "  </thead>\n",
       "  <tbody>\n",
       "    <tr>\n",
       "      <th>0</th>\n",
       "      <td>Electronics</td>\n",
       "      <td>2849</td>\n",
       "    </tr>\n",
       "    <tr>\n",
       "      <th>1</th>\n",
       "      <td>Books</td>\n",
       "      <td>2824</td>\n",
       "    </tr>\n",
       "    <tr>\n",
       "      <th>2</th>\n",
       "      <td>Jewelry</td>\n",
       "      <td>2802</td>\n",
       "    </tr>\n",
       "    <tr>\n",
       "      <th>3</th>\n",
       "      <td>Toys</td>\n",
       "      <td>2781</td>\n",
       "    </tr>\n",
       "    <tr>\n",
       "      <th>4</th>\n",
       "      <td>Skincare</td>\n",
       "      <td>2772</td>\n",
       "    </tr>\n",
       "    <tr>\n",
       "      <th>5</th>\n",
       "      <td>Snacks</td>\n",
       "      <td>2770</td>\n",
       "    </tr>\n",
       "    <tr>\n",
       "      <th>6</th>\n",
       "      <td>Outdoors</td>\n",
       "      <td>2747</td>\n",
       "    </tr>\n",
       "    <tr>\n",
       "      <th>7</th>\n",
       "      <td>Apparel</td>\n",
       "      <td>2726</td>\n",
       "    </tr>\n",
       "    <tr>\n",
       "      <th>8</th>\n",
       "      <td>Sports</td>\n",
       "      <td>2719</td>\n",
       "    </tr>\n",
       "    <tr>\n",
       "      <th>9</th>\n",
       "      <td>Grocery</td>\n",
       "      <td>2691</td>\n",
       "    </tr>\n",
       "    <tr>\n",
       "      <th>10</th>\n",
       "      <td>Pet Supplies</td>\n",
       "      <td>2690</td>\n",
       "    </tr>\n",
       "    <tr>\n",
       "      <th>11</th>\n",
       "      <td>Home</td>\n",
       "      <td>2685</td>\n",
       "    </tr>\n",
       "    <tr>\n",
       "      <th>12</th>\n",
       "      <td>Cosmetics</td>\n",
       "      <td>2677</td>\n",
       "    </tr>\n",
       "    <tr>\n",
       "      <th>13</th>\n",
       "      <td>Kitchen</td>\n",
       "      <td>2673</td>\n",
       "    </tr>\n",
       "    <tr>\n",
       "      <th>14</th>\n",
       "      <td>Clothing</td>\n",
       "      <td>2667</td>\n",
       "    </tr>\n",
       "    <tr>\n",
       "      <th>15</th>\n",
       "      <td>Shoes</td>\n",
       "      <td>2666</td>\n",
       "    </tr>\n",
       "  </tbody>\n",
       "</table>\n",
       "</div>"
      ],
      "text/plain": [
       "        Category  Order_Count\n",
       "0    Electronics         2849\n",
       "1          Books         2824\n",
       "2        Jewelry         2802\n",
       "3           Toys         2781\n",
       "4       Skincare         2772\n",
       "5         Snacks         2770\n",
       "6       Outdoors         2747\n",
       "7        Apparel         2726\n",
       "8         Sports         2719\n",
       "9        Grocery         2691\n",
       "10  Pet Supplies         2690\n",
       "11          Home         2685\n",
       "12     Cosmetics         2677\n",
       "13       Kitchen         2673\n",
       "14      Clothing         2667\n",
       "15         Shoes         2666"
      ]
     },
     "execution_count": 13,
     "metadata": {},
     "output_type": "execute_result"
    }
   ],
   "source": [
    "orders_by_category = df['Category'].value_counts().reset_index()\n",
    "orders_by_category.columns = ['Category', 'Order_Count']\n",
    "orders_by_category"
   ]
  },
  {
   "cell_type": "code",
   "execution_count": 14,
   "id": "5ffa39de-b49c-4a99-9420-6638fd87e61c",
   "metadata": {},
   "outputs": [
    {
     "data": {
      "text/plain": [
       "(124.90564484784746, 270, 10, 51.915451300919194)"
      ]
     },
     "execution_count": 14,
     "metadata": {},
     "output_type": "execute_result"
    }
   ],
   "source": [
    "average_delivery_time = df[\"Delivery_Time\"].mean()\n",
    "max_delivery_time = df[\"Delivery_Time\"].max()\n",
    "min_delivery_time = df[\"Delivery_Time\"].min()\n",
    "deviation_of_delivery_time = df[\"Delivery_Time\"].std()\n",
    "\n",
    "average_delivery_time, max_delivery_time, min_delivery_time, deviation_of_delivery_time\n",
    "\n",
    "# Большинство доставок занимают около 125 минут, но высокое отклонение указывает на значительную вариацию.\n",
    "# Слишком долгая и слишком быстрая доставка могут значить ошибки в системе"
   ]
  },
  {
   "cell_type": "code",
   "execution_count": 15,
   "id": "16e7457b-1ac6-43f4-bebb-10f8b05626c4",
   "metadata": {},
   "outputs": [
    {
     "data": {
      "text/plain": [
       "(29.567136880129862, 50, 15)"
      ]
     },
     "execution_count": 15,
     "metadata": {},
     "output_type": "execute_result"
    }
   ],
   "source": [
    "average_age = df[\"Agent_Age\"].mean()\n",
    "max_age = df[\"Agent_Age\"].max()\n",
    "min_age = df[\"Agent_Age\"].min()\n",
    "\n",
    "average_age, max_age, min_age\n",
    "\n",
    "# Возраст до 18 лет может быть нелегальным.\n",
    "# Возраст курьеров варьируется между 20 и 30"
   ]
  },
  {
   "cell_type": "code",
   "execution_count": 16,
   "id": "bcc78124-7c63-4018-813a-57cc0ab08ccf",
   "metadata": {},
   "outputs": [
    {
     "data": {
      "text/plain": [
       "(4.633780473846858, 6.0, 1.0)"
      ]
     },
     "execution_count": 16,
     "metadata": {},
     "output_type": "execute_result"
    }
   ],
   "source": [
    "average_rating = df[\"Agent_Rating\"].mean()\n",
    "max_rating = df[\"Agent_Rating\"].max()\n",
    "min_rating = df[\"Agent_Rating\"].min()\n",
    "\n",
    "average_rating, max_rating, min_rating\n",
    "\n",
    "# Среднее значение оценок это максимальные значения"
   ]
  },
  {
   "cell_type": "code",
   "execution_count": 17,
   "id": "7aa49705-8eca-43a2-945b-1340828fe8cc",
   "metadata": {},
   "outputs": [
    {
     "data": {
      "image/png": "[encoded data removed]",
      "text/plain": [
       "<Figure size 1000x600 with 1 Axes>"
      ]
     },
     "metadata": {},
     "output_type": "display_data"
    },
    {
     "data": {
      "text/html": [
       "<div>\n",
       "<style scoped>\n",
       "    .dataframe tbody tr th:only-of-type {\n",
       "        vertical-align: middle;\n",
       "    }\n",
       "\n",
       "    .dataframe tbody tr th {\n",
       "        vertical-align: top;\n",
       "    }\n",
       "\n",
       "    .dataframe thead th {\n",
       "        text-align: right;\n",
       "    }\n",
       "</style>\n",
       "<table border=\"1\" class=\"dataframe\">\n",
       "  <thead>\n",
       "    <tr style=\"text-align: right;\">\n",
       "      <th></th>\n",
       "      <th>Weather</th>\n",
       "      <th>Delivery_Time</th>\n",
       "    </tr>\n",
       "  </thead>\n",
       "  <tbody>\n",
       "    <tr>\n",
       "      <th>0</th>\n",
       "      <td>Cloudy</td>\n",
       "      <td>138.286773</td>\n",
       "    </tr>\n",
       "    <tr>\n",
       "      <th>1</th>\n",
       "      <td>Fog</td>\n",
       "      <td>136.570833</td>\n",
       "    </tr>\n",
       "    <tr>\n",
       "      <th>2</th>\n",
       "      <td>Sandstorms</td>\n",
       "      <td>123.238509</td>\n",
       "    </tr>\n",
       "    <tr>\n",
       "      <th>3</th>\n",
       "      <td>Stormy</td>\n",
       "      <td>123.211825</td>\n",
       "    </tr>\n",
       "    <tr>\n",
       "      <th>4</th>\n",
       "      <td>Sunny</td>\n",
       "      <td>103.664453</td>\n",
       "    </tr>\n",
       "    <tr>\n",
       "      <th>5</th>\n",
       "      <td>Unknown</td>\n",
       "      <td>120.670330</td>\n",
       "    </tr>\n",
       "    <tr>\n",
       "      <th>6</th>\n",
       "      <td>Windy</td>\n",
       "      <td>123.658037</td>\n",
       "    </tr>\n",
       "  </tbody>\n",
       "</table>\n",
       "</div>"
      ],
      "text/plain": [
       "      Weather  Delivery_Time\n",
       "0      Cloudy     138.286773\n",
       "1         Fog     136.570833\n",
       "2  Sandstorms     123.238509\n",
       "3      Stormy     123.211825\n",
       "4       Sunny     103.664453\n",
       "5     Unknown     120.670330\n",
       "6       Windy     123.658037"
      ]
     },
     "execution_count": 17,
     "metadata": {},
     "output_type": "execute_result"
    }
   ],
   "source": [
    "delivery_time_by_weather = df.groupby('Weather')['Delivery_Time'].mean().reset_index()\n",
    "\n",
    "plt.figure(figsize=(10, 6))\n",
    "sns.barplot(x='Weather', y='Delivery_Time', data=delivery_time_by_weather, palette='viridis')\n",
    "plt.title('Average Delivery Time by Weather Condition', fontsize=14)\n",
    "plt.xlabel('Weather', fontsize=12)\n",
    "plt.ylabel('Average Delivery Time (minutes)', fontsize=12)\n",
    "plt.xticks(rotation=45)\n",
    "plt.show()\n",
    "\n",
    "delivery_time_by_weather"
   ]
  },
  {
   "cell_type": "code",
   "execution_count": 18,
   "id": "0ffa015d-de02-4f94-99a3-793cea221c68",
   "metadata": {},
   "outputs": [
    {
     "data": {
      "image/png": "[encoded data removed]",
      "text/plain": [
       "<Figure size 640x480 with 1 Axes>"
      ]
     },
     "metadata": {},
     "output_type": "display_data"
    },
    {
     "data": {
      "text/plain": [
       "Traffic\n",
       "High       129.424115\n",
       "Jam        147.758980\n",
       "Low        101.354557\n",
       "Medium     126.839669\n",
       "NaN        120.670330\n",
       "Name: Delivery_Time, dtype: float64"
      ]
     },
     "execution_count": 18,
     "metadata": {},
     "output_type": "execute_result"
    }
   ],
   "source": [
    "delivery_time_by_traffic = df.groupby('Traffic')[\"Delivery_Time\"].mean()\n",
    "sns.countplot(x=df[\"Traffic\"])\n",
    "plt.show()\n",
    "delivery_time_by_traffic"
   ]
  },
  {
   "cell_type": "code",
   "execution_count": 19,
   "id": "03f66285-a400-4ec1-8602-32a8e7cd4b27",
   "metadata": {},
   "outputs": [
    {
     "data": {
      "image/png": "[encoded data removed]",
      "text/plain": [
       "<Figure size 1000x600 with 1 Axes>"
      ]
     },
     "metadata": {},
     "output_type": "display_data"
    },
    {
     "data": {
      "text/html": [
       "<div>\n",
       "<style scoped>\n",
       "    .dataframe tbody tr th:only-of-type {\n",
       "        vertical-align: middle;\n",
       "    }\n",
       "\n",
       "    .dataframe tbody tr th {\n",
       "        vertical-align: top;\n",
       "    }\n",
       "\n",
       "    .dataframe thead th {\n",
       "        text-align: right;\n",
       "    }\n",
       "</style>\n",
       "<table border=\"1\" class=\"dataframe\">\n",
       "  <thead>\n",
       "    <tr style=\"text-align: right;\">\n",
       "      <th></th>\n",
       "      <th>Area</th>\n",
       "      <th>Delivery_Time</th>\n",
       "    </tr>\n",
       "  </thead>\n",
       "  <tbody>\n",
       "    <tr>\n",
       "      <th>0</th>\n",
       "      <td>Metropolitian</td>\n",
       "      <td>129.702459</td>\n",
       "    </tr>\n",
       "    <tr>\n",
       "      <th>1</th>\n",
       "      <td>Other</td>\n",
       "      <td>104.464851</td>\n",
       "    </tr>\n",
       "    <tr>\n",
       "      <th>2</th>\n",
       "      <td>Semi-Urban</td>\n",
       "      <td>238.552632</td>\n",
       "    </tr>\n",
       "    <tr>\n",
       "      <th>3</th>\n",
       "      <td>Urban</td>\n",
       "      <td>109.434520</td>\n",
       "    </tr>\n",
       "  </tbody>\n",
       "</table>\n",
       "</div>"
      ],
      "text/plain": [
       "             Area  Delivery_Time\n",
       "0  Metropolitian      129.702459\n",
       "1           Other     104.464851\n",
       "2     Semi-Urban      238.552632\n",
       "3          Urban      109.434520"
      ]
     },
     "execution_count": 19,
     "metadata": {},
     "output_type": "execute_result"
    }
   ],
   "source": [
    "delivery_time_by_area = df.groupby('Area')['Delivery_Time'].mean().reset_index()\n",
    "\n",
    "plt.figure(figsize=(10, 6))\n",
    "sns.barplot(x='Area', y='Delivery_Time', data=delivery_time_by_area, palette='coolwarm')\n",
    "plt.title('Average Delivery Time by Area Type', fontsize=14)\n",
    "plt.xlabel('Area', fontsize=12)\n",
    "plt.ylabel('Average Delivery Time (minutes)', fontsize=12)\n",
    "plt.xticks(rotation=45)\n",
    "plt.show()\n",
    "\n",
    "delivery_time_by_area"
   ]
  },
  {
   "cell_type": "code",
   "execution_count": 20,
   "id": "ee0d30dc-d118-404a-8c7d-dfe99999ca57",
   "metadata": {},
   "outputs": [
    {
     "data": {
      "text/html": [
       "<div>\n",
       "<style scoped>\n",
       "    .dataframe tbody tr th:only-of-type {\n",
       "        vertical-align: middle;\n",
       "    }\n",
       "\n",
       "    .dataframe tbody tr th {\n",
       "        vertical-align: top;\n",
       "    }\n",
       "\n",
       "    .dataframe thead th {\n",
       "        text-align: right;\n",
       "    }\n",
       "</style>\n",
       "<table border=\"1\" class=\"dataframe\">\n",
       "  <thead>\n",
       "    <tr style=\"text-align: right;\">\n",
       "      <th></th>\n",
       "      <th>Vehicle</th>\n",
       "      <th>Order_Count</th>\n",
       "    </tr>\n",
       "  </thead>\n",
       "  <tbody>\n",
       "    <tr>\n",
       "      <th>0</th>\n",
       "      <td>motorcycle</td>\n",
       "      <td>25527</td>\n",
       "    </tr>\n",
       "    <tr>\n",
       "      <th>1</th>\n",
       "      <td>scooter</td>\n",
       "      <td>14639</td>\n",
       "    </tr>\n",
       "    <tr>\n",
       "      <th>2</th>\n",
       "      <td>van</td>\n",
       "      <td>3558</td>\n",
       "    </tr>\n",
       "    <tr>\n",
       "      <th>3</th>\n",
       "      <td>bicycle</td>\n",
       "      <td>15</td>\n",
       "    </tr>\n",
       "  </tbody>\n",
       "</table>\n",
       "</div>"
      ],
      "text/plain": [
       "       Vehicle  Order_Count\n",
       "0  motorcycle         25527\n",
       "1     scooter         14639\n",
       "2          van         3558\n",
       "3     bicycle            15"
      ]
     },
     "execution_count": 20,
     "metadata": {},
     "output_type": "execute_result"
    }
   ],
   "source": [
    "orders_by_vehicle = df['Vehicle'].value_counts().reset_index()\n",
    "orders_by_vehicle.columns = ['Vehicle', 'Order_Count']\n",
    "orders_by_vehicle"
   ]
  },
  {
   "cell_type": "code",
   "execution_count": 21,
   "id": "af49cd3a-3f10-4372-9b7a-6d1d967876a1",
   "metadata": {},
   "outputs": [
    {
     "data": {
      "image/png": "[encoded data removed]",
      "text/plain": [
       "<Figure size 640x480 with 1 Axes>"
      ]
     },
     "metadata": {},
     "output_type": "display_data"
    },
    {
     "data": {
      "text/plain": [
       "Vehicle\n",
       "bicycle        127.000000\n",
       "motorcycle     131.026325\n",
       "scooter        116.361637\n",
       "van            116.137156\n",
       "Name: Delivery_Time, dtype: float64"
      ]
     },
     "execution_count": 21,
     "metadata": {},
     "output_type": "execute_result"
    }
   ],
   "source": [
    "delivery_time_by_vehicle = df.groupby('Vehicle')['Delivery_Time'].mean()\n",
    "sns.countplot(x=df[\"Vehicle\"])\n",
    "plt.show()\n",
    "delivery_time_by_vehicle"
   ]
  }
 ],
 "metadata": {
  "kernelspec": {
   "display_name": "Python 3 (ipykernel)",
   "language": "python",
   "name": "python3"
  },
  "language_info": {
   "codemirror_mode": {
    "name": "ipython",
    "version": 3
   },
   "file_extension": ".py",
   "mimetype": "text/x-python",
   "name": "python",
   "nbconvert_exporter": "python",
   "pygments_lexer": "ipython3",
   "version": "3.12.3"
  }
 },
 "nbformat": 4,
 "nbformat_minor": 5
}
